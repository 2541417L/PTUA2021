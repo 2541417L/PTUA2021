{
 "cells": [
  {
   "cell_type": "markdown",
   "metadata": {},
   "source": [
    "Define PiFunction"
   ]
  },
  {
   "cell_type": "code",
   "execution_count": 45,
   "metadata": {},
   "outputs": [],
   "source": [
    "import random\n",
    "import math\n",
    "pi = math.pi\n",
    "def piFunction(cc,s):\n",
    "    n = 0 # number of points falling in the unit circle\n",
    "    d = 0 # number of points falling in the unit square\n",
    "    count = 0\n",
    "    simulating = True # use as a sentinel\n",
    "    while simulating:\n",
    "        x = random.random()\n",
    "        y = random.random()\n",
    "        if x**2 + y**2 <= 1.0:\n",
    "            n += 1\n",
    "        d += 1\n",
    "        ratio = 4 * n * 1./d\n",
    "        if abs(ratio-pi) / pi <= cc:\n",
    "            print(ratio)\n",
    "            count = count +1\n",
    "            if count >= s: \n",
    "                print(\"Draws needed: \", d)\n",
    "                break"
   ]
  },
  {
   "cell_type": "markdown",
   "metadata": {},
   "source": [
    "Input cc(convergence criteria) and s(running time)"
   ]
  },
  {
   "cell_type": "code",
   "execution_count": 46,
   "metadata": {},
   "outputs": [
    {
     "name": "stdout",
     "output_type": "stream",
     "text": [
      "3.116883116883117\n",
      "3.128205128205128\n",
      "3.1392405063291138\n",
      "3.15\n",
      "3.1604938271604937\n",
      "3.1707317073170733\n",
      "3.1666666666666665\n",
      "3.1515151515151514\n",
      "3.16\n",
      "3.1683168316831685\n",
      "Draws needed:  101\n",
      "None\n"
     ]
    }
   ],
   "source": [
    "print(piFunction(0.01,10))"
   ]
  },
  {
   "cell_type": "code",
   "execution_count": 47,
   "metadata": {},
   "outputs": [
    {
     "name": "stdout",
     "output_type": "stream",
     "text": [
      "3.142857142857143\n",
      "3.142857142857143\n",
      "3.13953488372093\n",
      "3.1445086705202314\n",
      "3.1411764705882352\n",
      "3.1404958677685952\n",
      "3.142857142857143\n",
      "3.138964577656676\n",
      "3.141304347826087\n",
      "3.143631436314363\n",
      "Draws needed:  369\n",
      "None\n"
     ]
    }
   ],
   "source": [
    "print(piFunction(0.001,10))"
   ]
  },
  {
   "cell_type": "code",
   "execution_count": 48,
   "metadata": {},
   "outputs": [
    {
     "name": "stdout",
     "output_type": "stream",
     "text": [
      "3.141282390203756\n",
      "3.1413038056760936\n",
      "3.1413252200803012\n",
      "3.141346633416459\n",
      "3.1413680456846462\n",
      "3.1413894568849434\n",
      "3.1414108670174303\n",
      "3.1414322760821864\n",
      "3.1414536840792917\n",
      "3.1414750910088265\n",
      "Draws needed:  40106\n",
      "None\n"
     ]
    }
   ],
   "source": [
    "print(piFunction(0.0001,10))"
   ]
  },
  {
   "cell_type": "code",
   "execution_count": 49,
   "metadata": {},
   "outputs": [
    {
     "name": "stdout",
     "output_type": "stream",
     "text": [
      "3.1415786647574726\n",
      "3.141583452211127\n",
      "3.1416187527642636\n",
      "3.141568662127509\n",
      "3.1416073419675787\n",
      "3.141608840914932\n",
      "3.1416118280488847\n",
      "3.141588385994876\n",
      "3.141619233709965\n",
      "3.1415711252653926\n",
      "Draws needed:  11775\n",
      "None\n"
     ]
    }
   ],
   "source": [
    "print(piFunction(0.00001,10))"
   ]
  },
  {
   "cell_type": "markdown",
   "metadata": {},
   "source": [
    "Define drawFunction"
   ]
  },
  {
   "cell_type": "code",
   "execution_count": 73,
   "metadata": {},
   "outputs": [],
   "source": [
    "import random\n",
    "import math\n",
    "import numpy as np\n",
    "pi = math.pi\n",
    "\n",
    "def drawFunction(cc,s):\n",
    "    L = []\n",
    "    for i in range(s):\n",
    "        n = 0 # number of points falling in the unit circle\n",
    "        d = 0 # number of points falling in the unit square\n",
    "        count = 0\n",
    "        simulating = True # use as a sentinel\n",
    "        while simulating:\n",
    "            x = random.random()\n",
    "            y = random.random()\n",
    "            if x**2 + y**2 <= 1.0:\n",
    "                n += 1\n",
    "            d += 1\n",
    "            ratio = 4 * n * 1./d\n",
    "            if abs(ratio-pi) / pi <= cc:\n",
    "                simulating = False\n",
    "                break\n",
    "        L.append(d)\n",
    "    print(L)\n",
    "    m = np.mean(L)\n",
    "    print(\"Avarge Draws: \", m)\n",
    "    stdll = np.std(L)\n",
    "    print(\"standard deviation of Draws: \", stdll)\n"
   ]
  },
  {
   "cell_type": "code",
   "execution_count": 74,
   "metadata": {},
   "outputs": [
    {
     "name": "stdout",
     "output_type": "stream",
     "text": [
      "[9, 9, 28, 9, 9, 290, 14, 144, 9, 14]\n",
      "Avarge Draws:  53.5\n",
      "standard deviation of Draws:  88.20119046815638\n",
      "None\n"
     ]
    }
   ],
   "source": [
    "print(drawFunction(0.01,10))"
   ]
  },
  {
   "cell_type": "code",
   "execution_count": 77,
   "metadata": {},
   "outputs": [
    {
     "name": "stdout",
     "output_type": "stream",
     "text": [
      "[14, 2544, 14, 42, 28, 93, 28, 339, 28, 28]\n",
      "Avarge Draws:  315.8\n",
      "standard deviation of Draws:  748.56540128435\n",
      "None\n"
     ]
    }
   ],
   "source": [
    "print(drawFunction(0.001,10))"
   ]
  },
  {
   "cell_type": "code",
   "execution_count": 75,
   "metadata": {},
   "outputs": [
    {
     "name": "stdout",
     "output_type": "stream",
     "text": [
      "[452, 261, 3955, 396, 275, 536, 396, 275, 2339, 233]\n",
      "Avarge Draws:  911.8\n",
      "standard deviation of Draws:  1178.0511703657019\n",
      "None\n"
     ]
    }
   ],
   "source": [
    "print(drawFunction(0.0001,10))"
   ]
  },
  {
   "cell_type": "code",
   "execution_count": 76,
   "metadata": {},
   "outputs": [
    {
     "name": "stdout",
     "output_type": "stream",
     "text": [
      "[1589, 43620, 1151, 904, 685, 1328, 452, 3383, 4590, 2903]\n",
      "Avarge Draws:  6060.5\n",
      "standard deviation of Draws:  12583.529101567652\n",
      "None\n"
     ]
    }
   ],
   "source": [
    "print(drawFunction(0.00001,10))"
   ]
  }
 ],
 "metadata": {
  "kernelspec": {
   "display_name": "Python 3",
   "language": "python",
   "name": "python3"
  },
  "language_info": {
   "codemirror_mode": {
    "name": "ipython",
    "version": 3
   },
   "file_extension": ".py",
   "mimetype": "text/x-python",
   "name": "python",
   "nbconvert_exporter": "python",
   "pygments_lexer": "ipython3",
   "version": "3.8.5"
  }
 },
 "nbformat": 4,
 "nbformat_minor": 4
}
